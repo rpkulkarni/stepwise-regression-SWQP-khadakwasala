{
 "cells": [
  {
   "cell_type": "code",
   "execution_count": 1,
   "id": "49f17a8d",
   "metadata": {},
   "outputs": [],
   "source": [
    "import pandas as pd\n",
    "import numpy as np\n",
    "import statsmodels.api as sm\n",
    "from itertools import combinations\n",
    "from sklearn.model_selection import KFold"
   ]
  },
  {
   "cell_type": "code",
   "execution_count": 2,
   "id": "62212bcd",
   "metadata": {},
   "outputs": [],
   "source": [
    "def calculate_aic(y, x):\n",
    "    model = sm.OLS(y, sm.add_constant(x)).fit()\n",
    "    return model.aic"
   ]
  },
  {
   "cell_type": "code",
   "execution_count": 3,
   "id": "4c55c753",
   "metadata": {},
   "outputs": [],
   "source": [
    "def perform_k_fold_cross_validation(data, target_variable, selected_variables, k=5):\n",
    "    kf = KFold(n_splits=k, shuffle=True, random_state=42)\n",
    "    aic_values = []\n",
    "\n",
    "    for train_index, test_index in kf.split(data):\n",
    "        train_data = data.iloc[train_index]\n",
    "        test_data = data.iloc[test_index]\n",
    "\n",
    "        aic = calculate_aic(train_data[target_variable], train_data[selected_variables])\n",
    "        aic_values.append(aic)\n",
    "\n",
    "    return np.mean(aic_values)"
   ]
  },
  {
   "cell_type": "code",
   "execution_count": 4,
   "id": "5d10636d",
   "metadata": {},
   "outputs": [],
   "source": [
    "def stepwise_regression(data, target_variable, max_features=None, k=5):\n",
    "    independent_variables = data.columns.drop(target_variable)\n",
    "    best_aic = np.inf\n",
    "    best_model = None\n",
    "    selected_variables = []\n",
    "\n",
    "    if max_features is None:\n",
    "        max_features = len(independent_variables)\n",
    "\n",
    "    while True:\n",
    "        remaining_variables = list(set(independent_variables) - set(selected_variables))\n",
    "        aic_candidates = []\n",
    "\n",
    "        for feature in remaining_variables:\n",
    "            selected_vars = selected_variables + [feature]\n",
    "            if data[selected_vars].isnull().values.any(): # check if the selected variables contain any NaNs\n",
    "                continue\n",
    "            if np.isinf(data[selected_vars].values).any(): # check if the selected variables contain any infinite values\n",
    "                continue\n",
    "            \n",
    "            aic = perform_k_fold_cross_validation(data, target_variable, selected_vars, k)\n",
    "            aic_candidates.append((feature, aic))\n",
    "\n",
    "        if not aic_candidates:\n",
    "            break\n",
    "\n",
    "        aic_candidates.sort(key=lambda x: x[1])\n",
    "        best_candidate = aic_candidates[0]\n",
    "\n",
    "        if best_candidate[1] < best_aic:\n",
    "            selected_variables.append(best_candidate[0])\n",
    "            best_aic = best_candidate[1]\n",
    "            best_model = sm.OLS(data[target_variable], sm.add_constant(data[selected_variables])).fit()\n",
    "\n",
    "            if len(selected_variables) == max_features:\n",
    "                break\n",
    "        else:\n",
    "            break\n",
    "\n",
    "    return best_model, selected_variables"
   ]
  },
  {
   "cell_type": "code",
   "execution_count": 5,
   "id": "02ae96c9",
   "metadata": {},
   "outputs": [],
   "source": [
    "# Example usage:\n",
    "data = pd.read_csv('D:/Mid_review_presentation/Thesis_writing/Chapters/Chapter_4/Khadakwasala/Training_Input/CDO.csv')  # Load your dataset\n",
    "target_variable = 'CDO'  # Replace with your target column name\n",
    "max_features = 6  # Set the maximum number of features to include in the model (optional)\n",
    "k = 5  # Set the number of folds for cross-validation"
   ]
  },
  {
   "cell_type": "code",
   "execution_count": 6,
   "id": "a333f255",
   "metadata": {},
   "outputs": [
    {
     "name": "stdout",
     "output_type": "stream",
     "text": [
      "Selected features: ['Chl', 'Tur']\n",
      "                            OLS Regression Results                            \n",
      "==============================================================================\n",
      "Dep. Variable:                    CDO   R-squared:                       0.835\n",
      "Model:                            OLS   Adj. R-squared:                  0.809\n",
      "Method:                 Least Squares   F-statistic:                     32.79\n",
      "Date:                Sat, 06 May 2023   Prob (F-statistic):           8.34e-06\n",
      "Time:                        00:36:46   Log-Likelihood:                -23.906\n",
      "No. Observations:                  16   AIC:                             53.81\n",
      "Df Residuals:                      13   BIC:                             56.13\n",
      "Df Model:                           2                                         \n",
      "Covariance Type:            nonrobust                                         \n",
      "==============================================================================\n",
      "                 coef    std err          t      P>|t|      [0.025      0.975]\n",
      "------------------------------------------------------------------------------\n",
      "const         89.4429      8.723     10.254      0.000      70.598     108.287\n",
      "Chl         -233.1802     35.105     -6.642      0.000    -309.020    -157.340\n",
      "Tur          -17.1638      2.772     -6.191      0.000     -23.153     -11.175\n",
      "==============================================================================\n",
      "Omnibus:                        0.179   Durbin-Watson:                   2.569\n",
      "Prob(Omnibus):                  0.914   Jarque-Bera (JB):                0.363\n",
      "Skew:                          -0.169   Prob(JB):                        0.834\n",
      "Kurtosis:                       2.344   Cond. No.                         272.\n",
      "==============================================================================\n",
      "\n",
      "Notes:\n",
      "[1] Standard Errors assume that the covariance matrix of the errors is correctly specified.\n"
     ]
    },
    {
     "name": "stderr",
     "output_type": "stream",
     "text": [
      "C:\\Users\\Admin\\anaconda3\\lib\\site-packages\\scipy\\stats\\stats.py:1541: UserWarning: kurtosistest only valid for n>=20 ... continuing anyway, n=16\n",
      "  warnings.warn(\"kurtosistest only valid for n>=20 ... continuing \"\n"
     ]
    }
   ],
   "source": [
    "best_model, selected_features = stepwise_regression(data, target_variable, max_features, k)\n",
    "print(\"Selected features:\", selected_features)\n",
    "print(best_model.summary())"
   ]
  },
  {
   "cell_type": "code",
   "execution_count": 7,
   "id": "900b2a40",
   "metadata": {},
   "outputs": [
    {
     "name": "stderr",
     "output_type": "stream",
     "text": [
      "C:\\Users\\Admin\\anaconda3\\lib\\site-packages\\scipy\\stats\\stats.py:1541: UserWarning: kurtosistest only valid for n>=20 ... continuing anyway, n=16\n",
      "  warnings.warn(\"kurtosistest only valid for n>=20 ... continuing \"\n"
     ]
    }
   ],
   "source": [
    "# Write the results to a file\n",
    "with open('results_CDO_Bear.txt', 'w') as f:\n",
    "    f.write(f\"Selected features: {selected_features}\\n\")\n",
    "    f.write(str(best_model.summary()))"
   ]
  },
  {
   "cell_type": "code",
   "execution_count": 8,
   "id": "b5ccf645",
   "metadata": {},
   "outputs": [],
   "source": [
    "# Get the coefficients and equation for the multiple linear regression model\n",
    "coefficients = best_model.params\n",
    "equation = \"CDO = \"\n",
    "for i, feature in enumerate(selected_features):\n",
    "    coefficient = round(coefficients[i+1], 4)\n",
    "    equation += f\"{coefficient}*{feature} + \"\n",
    "intercept = round(coefficients[0], 4)\n",
    "equation += f\"{intercept}\""
   ]
  },
  {
   "cell_type": "code",
   "execution_count": 9,
   "id": "9e73df05",
   "metadata": {},
   "outputs": [
    {
     "name": "stdout",
     "output_type": "stream",
     "text": [
      "Coefficients: const     89.442924\n",
      "Chl     -233.180164\n",
      "Tur      -17.163760\n",
      "dtype: float64\n",
      "Equation: CDO = -233.1802*Chl + -17.1638*Tur + 89.4429\n"
     ]
    }
   ],
   "source": [
    "# Display the coefficients and equation for the multiple linear regression model\n",
    "print(\"Coefficients:\", coefficients)\n",
    "print(\"Equation:\", equation)"
   ]
  },
  {
   "cell_type": "code",
   "execution_count": 10,
   "id": "8873ed4d",
   "metadata": {},
   "outputs": [],
   "source": [
    "# Make predictions using the best model\n",
    "X = sm.add_constant(data[selected_features])\n",
    "y_pred = best_model.predict(X)"
   ]
  },
  {
   "cell_type": "code",
   "execution_count": 11,
   "id": "3abf54ef",
   "metadata": {},
   "outputs": [],
   "source": [
    "# Add the predicted values to the original data\n",
    "data['Predicted CDO'] = y_pred"
   ]
  },
  {
   "cell_type": "code",
   "execution_count": 12,
   "id": "b0f2e35c",
   "metadata": {},
   "outputs": [
    {
     "name": "stdout",
     "output_type": "stream",
     "text": [
      "Original and Predicted CDO:\n",
      "      CDO  Predicted CDO\n",
      "0   16.61      18.725540\n",
      "1   24.25      24.294276\n",
      "2   17.99      17.276016\n",
      "3   18.91      18.515725\n",
      "4   20.88      20.558627\n",
      "5   21.09      19.880300\n",
      "6   17.15      18.708119\n",
      "7   21.30      19.392447\n",
      "8   20.16      20.617426\n",
      "9   23.43      22.665722\n",
      "10  19.86      19.916692\n",
      "11  18.10      19.396458\n",
      "12  16.60      15.096447\n",
      "13  17.59      18.084725\n",
      "14  15.11      16.017924\n",
      "15  14.99      14.873553\n"
     ]
    }
   ],
   "source": [
    "# Display the original and predicted values of Turbidity\n",
    "print(\"Original and Predicted CDO:\")\n",
    "print(data[[target_variable, 'Predicted CDO']])"
   ]
  },
  {
   "cell_type": "code",
   "execution_count": 13,
   "id": "f07282a0",
   "metadata": {},
   "outputs": [],
   "source": [
    "# Save the original and predicted turbidity values to an Excel file\n",
    "output_data = data[[target_variable, 'Predicted CDO']]\n",
    "output_file_path = 'D:/Mid_review_presentation/Thesis_writing/Chapters/Chapter_4/Khadakwasala/Training_output/CDO_Khdakwasala_2.xlsx'\n",
    "output_data.to_excel(output_file_path, index=False)"
   ]
  },
  {
   "cell_type": "code",
   "execution_count": null,
   "id": "a0d873c6",
   "metadata": {},
   "outputs": [],
   "source": []
  },
  {
   "cell_type": "code",
   "execution_count": null,
   "id": "917590f9",
   "metadata": {},
   "outputs": [],
   "source": []
  }
 ],
 "metadata": {
  "kernelspec": {
   "display_name": "Python 3 (ipykernel)",
   "language": "python",
   "name": "python3"
  },
  "language_info": {
   "codemirror_mode": {
    "name": "ipython",
    "version": 3
   },
   "file_extension": ".py",
   "mimetype": "text/x-python",
   "name": "python",
   "nbconvert_exporter": "python",
   "pygments_lexer": "ipython3",
   "version": "3.9.12"
  }
 },
 "nbformat": 4,
 "nbformat_minor": 5
}
