{
 "cells": [
  {
   "cell_type": "code",
   "execution_count": 1,
   "id": "49f17a8d",
   "metadata": {},
   "outputs": [],
   "source": [
    "import pandas as pd\n",
    "import numpy as np\n",
    "import statsmodels.api as sm\n",
    "from itertools import combinations\n",
    "from sklearn.model_selection import KFold"
   ]
  },
  {
   "cell_type": "code",
   "execution_count": 2,
   "id": "62212bcd",
   "metadata": {},
   "outputs": [],
   "source": [
    "def calculate_aic(y, x):\n",
    "    model = sm.OLS(y, sm.add_constant(x)).fit()\n",
    "    return model.aic"
   ]
  },
  {
   "cell_type": "code",
   "execution_count": 3,
   "id": "4c55c753",
   "metadata": {},
   "outputs": [],
   "source": [
    "def perform_k_fold_cross_validation(data, target_variable, selected_variables, k=5):\n",
    "    kf = KFold(n_splits=k, shuffle=True, random_state=42)\n",
    "    aic_values = []\n",
    "\n",
    "    for train_index, test_index in kf.split(data):\n",
    "        train_data = data.iloc[train_index]\n",
    "        test_data = data.iloc[test_index]\n",
    "\n",
    "        aic = calculate_aic(train_data[target_variable], train_data[selected_variables])\n",
    "        aic_values.append(aic)\n",
    "\n",
    "    return np.mean(aic_values)"
   ]
  },
  {
   "cell_type": "code",
   "execution_count": 4,
   "id": "5d10636d",
   "metadata": {},
   "outputs": [],
   "source": [
    "def stepwise_regression(data, target_variable, max_features=None, k=5):\n",
    "    independent_variables = data.columns.drop(target_variable)\n",
    "    best_aic = np.inf\n",
    "    best_model = None\n",
    "    selected_variables = []\n",
    "\n",
    "    if max_features is None:\n",
    "        max_features = len(independent_variables)\n",
    "\n",
    "    while True:\n",
    "        remaining_variables = list(set(independent_variables) - set(selected_variables))\n",
    "        aic_candidates = []\n",
    "\n",
    "        for feature in remaining_variables:\n",
    "            selected_vars = selected_variables + [feature]\n",
    "            if data[selected_vars].isnull().values.any(): # check if the selected variables contain any NaNs\n",
    "                continue\n",
    "            if np.isinf(data[selected_vars].values).any(): # check if the selected variables contain any infinite values\n",
    "                continue\n",
    "            \n",
    "            aic = perform_k_fold_cross_validation(data, target_variable, selected_vars, k)\n",
    "            aic_candidates.append((feature, aic))\n",
    "\n",
    "        if not aic_candidates:\n",
    "            break\n",
    "\n",
    "        aic_candidates.sort(key=lambda x: x[1])\n",
    "        best_candidate = aic_candidates[0]\n",
    "\n",
    "        if best_candidate[1] < best_aic:\n",
    "            selected_variables.append(best_candidate[0])\n",
    "            best_aic = best_candidate[1]\n",
    "            best_model = sm.OLS(data[target_variable], sm.add_constant(data[selected_variables])).fit()\n",
    "\n",
    "            if len(selected_variables) == max_features:\n",
    "                break\n",
    "        else:\n",
    "            break\n",
    "\n",
    "    return best_model, selected_variables"
   ]
  },
  {
   "cell_type": "code",
   "execution_count": 5,
   "id": "02ae96c9",
   "metadata": {},
   "outputs": [],
   "source": [
    "# Example usage:\n",
    "data = pd.read_csv('D:/Mid_review_presentation/Thesis_writing/Chapters/Chapter_4/Khadakwasala/Training_Input/Chlorophyll.csv')  # Load your dataset\n",
    "target_variable = 'Chlorophyll'  # Replace with your target column name\n",
    "max_features = 6  # Set the maximum number of features to include in the model (optional)\n",
    "k = 5  # Set the number of folds for cross-validation"
   ]
  },
  {
   "cell_type": "code",
   "execution_count": 6,
   "id": "a333f255",
   "metadata": {},
   "outputs": [
    {
     "name": "stdout",
     "output_type": "stream",
     "text": [
      "Selected features: ['B3/B2', 'B4', 'B3+B4', 'B2', 'B5', 'B2+B3']\n",
      "                            OLS Regression Results                            \n",
      "==============================================================================\n",
      "Dep. Variable:            Chlorophyll   R-squared:                       0.896\n",
      "Model:                            OLS   Adj. R-squared:                  0.845\n",
      "Method:                 Least Squares   F-statistic:                     17.31\n",
      "Date:                Fri, 05 May 2023   Prob (F-statistic):           0.000122\n",
      "Time:                        23:54:28   Log-Likelihood:                 69.404\n",
      "No. Observations:                  16   AIC:                            -126.8\n",
      "Df Residuals:                      10   BIC:                            -122.2\n",
      "Df Model:                           5                                         \n",
      "Covariance Type:            nonrobust                                         \n",
      "==============================================================================\n",
      "                 coef    std err          t      P>|t|      [0.025      0.975]\n",
      "------------------------------------------------------------------------------\n",
      "const          0.3141      0.030     10.620      0.000       0.248       0.380\n",
      "B3/B2         -0.1551      0.028     -5.510      0.000      -0.218      -0.092\n",
      "B4            -0.9551      0.262     -3.647      0.004      -1.539      -0.372\n",
      "B3+B4          1.5376      0.337      4.557      0.001       0.786       2.290\n",
      "B2            -2.1244      0.407     -5.224      0.000      -3.030      -1.218\n",
      "B5            -0.4921      0.156     -3.155      0.010      -0.840      -0.145\n",
      "B2+B3          0.3683      0.154      2.391      0.038       0.025       0.712\n",
      "==============================================================================\n",
      "Omnibus:                        1.638   Durbin-Watson:                   2.247\n",
      "Prob(Omnibus):                  0.441   Jarque-Bera (JB):                1.296\n",
      "Skew:                           0.632   Prob(JB):                        0.523\n",
      "Kurtosis:                       2.411   Cond. No.                     1.51e+17\n",
      "==============================================================================\n",
      "\n",
      "Notes:\n",
      "[1] Standard Errors assume that the covariance matrix of the errors is correctly specified.\n",
      "[2] The smallest eigenvalue is 1.5e-33. This might indicate that there are\n",
      "strong multicollinearity problems or that the design matrix is singular.\n"
     ]
    },
    {
     "name": "stderr",
     "output_type": "stream",
     "text": [
      "C:\\Users\\Admin\\anaconda3\\lib\\site-packages\\scipy\\stats\\stats.py:1541: UserWarning: kurtosistest only valid for n>=20 ... continuing anyway, n=16\n",
      "  warnings.warn(\"kurtosistest only valid for n>=20 ... continuing \"\n"
     ]
    }
   ],
   "source": [
    "best_model, selected_features = stepwise_regression(data, target_variable, max_features, k)\n",
    "print(\"Selected features:\", selected_features)\n",
    "print(best_model.summary())"
   ]
  },
  {
   "cell_type": "code",
   "execution_count": 7,
   "id": "900b2a40",
   "metadata": {},
   "outputs": [
    {
     "name": "stderr",
     "output_type": "stream",
     "text": [
      "C:\\Users\\Admin\\anaconda3\\lib\\site-packages\\scipy\\stats\\stats.py:1541: UserWarning: kurtosistest only valid for n>=20 ... continuing anyway, n=16\n",
      "  warnings.warn(\"kurtosistest only valid for n>=20 ... continuing \"\n"
     ]
    }
   ],
   "source": [
    "# Write the results to a file\n",
    "with open('results_chl_Bear.txt', 'w') as f:\n",
    "    f.write(f\"Selected features: {selected_features}\\n\")\n",
    "    f.write(str(best_model.summary()))"
   ]
  },
  {
   "cell_type": "code",
   "execution_count": 8,
   "id": "4654c887",
   "metadata": {},
   "outputs": [
    {
     "data": {
      "text/plain": [
       "'C:\\\\Users\\\\Admin'"
      ]
     },
     "execution_count": 8,
     "metadata": {},
     "output_type": "execute_result"
    }
   ],
   "source": [
    "pwd"
   ]
  },
  {
   "cell_type": "code",
   "execution_count": 9,
   "id": "b5ccf645",
   "metadata": {},
   "outputs": [],
   "source": [
    "# Get the coefficients and equation for the multiple linear regression model\n",
    "coefficients = best_model.params\n",
    "equation = \"Chlorophyll = \"\n",
    "for i, feature in enumerate(selected_features):\n",
    "    coefficient = round(coefficients[i+1], 4)\n",
    "    equation += f\"{coefficient}*{feature} + \"\n",
    "intercept = round(coefficients[0], 4)\n",
    "equation += f\"{intercept}\""
   ]
  },
  {
   "cell_type": "code",
   "execution_count": 10,
   "id": "9e73df05",
   "metadata": {},
   "outputs": [
    {
     "name": "stdout",
     "output_type": "stream",
     "text": [
      "Coefficients: const    0.314121\n",
      "B3/B2   -0.155144\n",
      "B4      -0.955064\n",
      "B3+B4    1.537626\n",
      "B2      -2.124382\n",
      "B5      -0.492075\n",
      "B2+B3    0.368308\n",
      "dtype: float64\n",
      "Equation: Chlorophyll = -0.1551*B3/B2 + -0.9551*B4 + 1.5376*B3+B4 + -2.1244*B2 + -0.4921*B5 + 0.3683*B2+B3 + 0.3141\n"
     ]
    }
   ],
   "source": [
    "# Display the coefficients and equation for the multiple linear regression model\n",
    "print(\"Coefficients:\", coefficients)\n",
    "print(\"Equation:\", equation)"
   ]
  },
  {
   "cell_type": "code",
   "execution_count": 11,
   "id": "8873ed4d",
   "metadata": {},
   "outputs": [],
   "source": [
    "# Make predictions using the best model\n",
    "X = sm.add_constant(data[selected_features])\n",
    "y_pred = best_model.predict(X)"
   ]
  },
  {
   "cell_type": "code",
   "execution_count": 12,
   "id": "3abf54ef",
   "metadata": {},
   "outputs": [],
   "source": [
    "# Add the predicted values to the original data\n",
    "data['Predicted Chlorophyll'] = y_pred"
   ]
  },
  {
   "cell_type": "code",
   "execution_count": 13,
   "id": "b0f2e35c",
   "metadata": {},
   "outputs": [
    {
     "name": "stdout",
     "output_type": "stream",
     "text": [
      "Original and Predicted Chlorophyll:\n",
      "    Chlorophyll  Predicted Chlorophyll\n",
      "0          0.15               0.153012\n",
      "1          0.14               0.138450\n",
      "2          0.18               0.174975\n",
      "3          0.15               0.147164\n",
      "4          0.14               0.141465\n",
      "5          0.15               0.143009\n",
      "6          0.16               0.162625\n",
      "7          0.15               0.151684\n",
      "8          0.15               0.151070\n",
      "9          0.15               0.152909\n",
      "10         0.15               0.147872\n",
      "11         0.15               0.153760\n",
      "12         0.17               0.167454\n",
      "13         0.15               0.149018\n",
      "14         0.15               0.154067\n",
      "15         0.16               0.161465\n"
     ]
    }
   ],
   "source": [
    "# Display the original and predicted values of Turbidity\n",
    "print(\"Original and Predicted Chlorophyll:\")\n",
    "print(data[[target_variable, 'Predicted Chlorophyll']])"
   ]
  },
  {
   "cell_type": "code",
   "execution_count": 14,
   "id": "f07282a0",
   "metadata": {},
   "outputs": [],
   "source": [
    "# Save the original and predicted turbidity values to an Excel file\n",
    "output_data = data[[target_variable, 'Predicted Chlorophyll']]\n",
    "output_file_path = 'D:/Mid_review_presentation/Thesis_writing/Chapters/Chapter_4/Khadakwasala/Training_output/Chlorophyll_Khd_4.xlsx'\n",
    "output_data.to_excel(output_file_path, index=False)"
   ]
  },
  {
   "cell_type": "code",
   "execution_count": null,
   "id": "a0d873c6",
   "metadata": {},
   "outputs": [],
   "source": []
  }
 ],
 "metadata": {
  "kernelspec": {
   "display_name": "Python 3 (ipykernel)",
   "language": "python",
   "name": "python3"
  },
  "language_info": {
   "codemirror_mode": {
    "name": "ipython",
    "version": 3
   },
   "file_extension": ".py",
   "mimetype": "text/x-python",
   "name": "python",
   "nbconvert_exporter": "python",
   "pygments_lexer": "ipython3",
   "version": "3.9.12"
  }
 },
 "nbformat": 4,
 "nbformat_minor": 5
}
