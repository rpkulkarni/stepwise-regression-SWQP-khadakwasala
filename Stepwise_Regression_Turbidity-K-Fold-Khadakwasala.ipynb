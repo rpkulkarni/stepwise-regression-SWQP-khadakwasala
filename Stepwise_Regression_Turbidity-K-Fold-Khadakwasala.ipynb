{
 "cells": [
  {
   "cell_type": "code",
   "execution_count": 7,
   "id": "49f17a8d",
   "metadata": {},
   "outputs": [],
   "source": [
    "import pandas as pd\n",
    "import numpy as np\n",
    "import statsmodels.api as sm\n",
    "from itertools import combinations\n",
    "from sklearn.model_selection import KFold"
   ]
  },
  {
   "cell_type": "code",
   "execution_count": 8,
   "id": "62212bcd",
   "metadata": {},
   "outputs": [],
   "source": [
    "def calculate_aic(y, x):\n",
    "    model = sm.OLS(y, sm.add_constant(x)).fit()\n",
    "    return model.aic"
   ]
  },
  {
   "cell_type": "code",
   "execution_count": 9,
   "id": "4c55c753",
   "metadata": {},
   "outputs": [],
   "source": [
    "def perform_k_fold_cross_validation(data, target_variable, selected_variables, k=10):\n",
    "    kf = KFold(n_splits=k, shuffle=True, random_state=42)\n",
    "    aic_values = []\n",
    "\n",
    "    for train_index, test_index in kf.split(data):\n",
    "        train_data = data.iloc[train_index]\n",
    "        test_data = data.iloc[test_index]\n",
    "\n",
    "        aic = calculate_aic(train_data[target_variable], train_data[selected_variables])\n",
    "        aic_values.append(aic)\n",
    "\n",
    "    return np.mean(aic_values)"
   ]
  },
  {
   "cell_type": "code",
   "execution_count": 10,
   "id": "5d10636d",
   "metadata": {},
   "outputs": [],
   "source": [
    "def stepwise_regression(data, target_variable, max_features=None, k=2):\n",
    "    independent_variables = data.columns.drop(target_variable)\n",
    "    best_aic = np.inf\n",
    "    best_model = None\n",
    "    selected_variables = []\n",
    "\n",
    "    if max_features is None:\n",
    "        max_features = len(independent_variables)\n",
    "\n",
    "    while True:\n",
    "        remaining_variables = list(set(independent_variables) - set(selected_variables))\n",
    "        aic_candidates = []\n",
    "\n",
    "        for feature in remaining_variables:\n",
    "            selected_vars = selected_variables + [feature]\n",
    "            if data[selected_vars].isnull().values.any(): # check if the selected variables contain any NaNs\n",
    "                continue\n",
    "            if np.isinf(data[selected_vars].values).any(): # check if the selected variables contain any infinite values\n",
    "                continue\n",
    "            \n",
    "            aic = perform_k_fold_cross_validation(data, target_variable, selected_vars, k)\n",
    "            aic_candidates.append((feature, aic))\n",
    "\n",
    "        if not aic_candidates:\n",
    "            break\n",
    "\n",
    "        aic_candidates.sort(key=lambda x: x[1])\n",
    "        best_candidate = aic_candidates[0]\n",
    "\n",
    "        if best_candidate[1] < best_aic:\n",
    "            selected_variables.append(best_candidate[0])\n",
    "            best_aic = best_candidate[1]\n",
    "            best_model = sm.OLS(data[target_variable], sm.add_constant(data[selected_variables])).fit()\n",
    "\n",
    "            if len(selected_variables) == max_features:\n",
    "                break\n",
    "        else:\n",
    "            break\n",
    "\n",
    "    return best_model, selected_variables"
   ]
  },
  {
   "cell_type": "code",
   "execution_count": 11,
   "id": "02ae96c9",
   "metadata": {},
   "outputs": [],
   "source": [
    "# Example usage:\n",
    "data = pd.read_csv('D:/Mid_review_presentation/Thesis_writing/Chapters/Chapter_4/Khadakwasala/Training_Input/Turbidity.csv')  # Load your dataset\n",
    "target_variable = 'Turbidity'  # Replace with your target column name\n",
    "max_features = 6  # Set the maximum number of features to include in the model (optional)\n",
    "k = 5  # Set the number of folds for cross-validation"
   ]
  },
  {
   "cell_type": "code",
   "execution_count": 12,
   "id": "a333f255",
   "metadata": {},
   "outputs": [
    {
     "name": "stdout",
     "output_type": "stream",
     "text": [
      "Selected features: ['B2/B1']\n",
      "                            OLS Regression Results                            \n",
      "==============================================================================\n",
      "Dep. Variable:              Turbidity   R-squared:                       0.844\n",
      "Model:                            OLS   Adj. R-squared:                  0.833\n",
      "Method:                 Least Squares   F-statistic:                     75.70\n",
      "Date:                Sat, 06 May 2023   Prob (F-statistic):           5.09e-07\n",
      "Time:                        16:10:21   Log-Likelihood:                 27.235\n",
      "No. Observations:                  16   AIC:                            -50.47\n",
      "Df Residuals:                      14   BIC:                            -48.92\n",
      "Df Model:                           1                                         \n",
      "Covariance Type:            nonrobust                                         \n",
      "==============================================================================\n",
      "                 coef    std err          t      P>|t|      [0.025      0.975]\n",
      "------------------------------------------------------------------------------\n",
      "const          1.0216      0.117      8.746      0.000       0.771       1.272\n",
      "B2/B1          1.0116      0.116      8.700      0.000       0.762       1.261\n",
      "==============================================================================\n",
      "Omnibus:                        3.822   Durbin-Watson:                   0.591\n",
      "Prob(Omnibus):                  0.148   Jarque-Bera (JB):                2.527\n",
      "Skew:                           0.971   Prob(JB):                        0.283\n",
      "Kurtosis:                       2.862   Cond. No.                         19.8\n",
      "==============================================================================\n",
      "\n",
      "Notes:\n",
      "[1] Standard Errors assume that the covariance matrix of the errors is correctly specified.\n"
     ]
    },
    {
     "name": "stderr",
     "output_type": "stream",
     "text": [
      "C:\\Users\\Admin\\anaconda3\\lib\\site-packages\\scipy\\stats\\stats.py:1541: UserWarning: kurtosistest only valid for n>=20 ... continuing anyway, n=16\n",
      "  warnings.warn(\"kurtosistest only valid for n>=20 ... continuing \"\n"
     ]
    }
   ],
   "source": [
    "best_model, selected_features = stepwise_regression(data, target_variable, max_features, k)\n",
    "print(\"Selected features:\", selected_features)\n",
    "print(best_model.summary())"
   ]
  },
  {
   "cell_type": "code",
   "execution_count": 7,
   "id": "900b2a40",
   "metadata": {},
   "outputs": [
    {
     "name": "stderr",
     "output_type": "stream",
     "text": [
      "C:\\Users\\Admin\\anaconda3\\lib\\site-packages\\scipy\\stats\\stats.py:1541: UserWarning: kurtosistest only valid for n>=20 ... continuing anyway, n=16\n",
      "  warnings.warn(\"kurtosistest only valid for n>=20 ... continuing \"\n"
     ]
    }
   ],
   "source": [
    "# Write the results to a file\n",
    "with open('results.txt', 'w') as f:\n",
    "    f.write(f\"Selected features: {selected_features}\\n\")\n",
    "    f.write(str(best_model.summary()))"
   ]
  },
  {
   "cell_type": "code",
   "execution_count": 8,
   "id": "b5ccf645",
   "metadata": {},
   "outputs": [],
   "source": [
    "# Get the coefficients and equation for the multiple linear regression model\n",
    "coefficients = best_model.params\n",
    "equation = \"Turbidity = \"\n",
    "for i, feature in enumerate(selected_features):\n",
    "    coefficient = round(coefficients[i+1], 4)\n",
    "    equation += f\"{coefficient}*{feature} + \"\n",
    "intercept = round(coefficients[0], 4)\n",
    "equation += f\"{intercept}\""
   ]
  },
  {
   "cell_type": "code",
   "execution_count": 9,
   "id": "9e73df05",
   "metadata": {},
   "outputs": [
    {
     "name": "stdout",
     "output_type": "stream",
     "text": [
      "Coefficients: const    1.021024\n",
      "B2/B1    1.012028\n",
      "dtype: float64\n",
      "Equation: Turbidity = 1.012*B2/B1 + 1.021\n"
     ]
    }
   ],
   "source": [
    "# Display the coefficients and equation for the multiple linear regression model\n",
    "print(\"Coefficients:\", coefficients)\n",
    "print(\"Equation:\", equation)"
   ]
  },
  {
   "cell_type": "code",
   "execution_count": 10,
   "id": "8873ed4d",
   "metadata": {},
   "outputs": [],
   "source": [
    "# Make predictions using the best model\n",
    "X = sm.add_constant(data[selected_features])\n",
    "y_pred = best_model.predict(X)"
   ]
  },
  {
   "cell_type": "code",
   "execution_count": 11,
   "id": "3abf54ef",
   "metadata": {},
   "outputs": [],
   "source": [
    "# Add the predicted values to the original data\n",
    "data['Predicted Turbidity'] = y_pred"
   ]
  },
  {
   "cell_type": "code",
   "execution_count": 12,
   "id": "b0f2e35c",
   "metadata": {},
   "outputs": [
    {
     "name": "stdout",
     "output_type": "stream",
     "text": [
      "Original and Predicted Turbidity:\n",
      "    Turbidity  Predicted Turbidity\n",
      "0    2.034548             2.050912\n",
      "1    1.868908             1.883038\n",
      "2    1.822511             1.812870\n",
      "3    2.102760             2.146012\n",
      "4    2.055466             2.069104\n",
      "5    2.069427             2.110774\n",
      "6    1.911519             1.916021\n",
      "7    2.087713             2.118815\n",
      "8    2.039185             2.093354\n",
      "9    1.856125             1.851286\n",
      "10   2.060553             2.099203\n",
      "11   1.993036             2.016327\n",
      "12   2.071995             2.046565\n",
      "13   2.147920             2.089051\n",
      "14   2.207605             2.110120\n",
      "15   2.190728             2.106547\n"
     ]
    }
   ],
   "source": [
    "# Display the original and predicted values of Turbidity\n",
    "print(\"Original and Predicted Turbidity:\")\n",
    "print(data[[target_variable, 'Predicted Turbidity']])"
   ]
  },
  {
   "cell_type": "code",
   "execution_count": 13,
   "id": "f07282a0",
   "metadata": {},
   "outputs": [],
   "source": [
    "# Save the original and predicted turbidity values to an Excel file\n",
    "output_data = data[[target_variable, 'Predicted Turbidity']]\n",
    "output_file_path = 'D:/Mid_review_presentation/Thesis_writing/Chapters/Chapter_4/Khadakwasala/Training_Input/turbidity_values_4.xlsx'\n",
    "output_data.to_excel(output_file_path, index=False)"
   ]
  },
  {
   "cell_type": "code",
   "execution_count": null,
   "id": "a0d873c6",
   "metadata": {},
   "outputs": [],
   "source": []
  },
  {
   "cell_type": "code",
   "execution_count": null,
   "id": "cc049a43",
   "metadata": {},
   "outputs": [],
   "source": []
  }
 ],
 "metadata": {
  "kernelspec": {
   "display_name": "Python 3 (ipykernel)",
   "language": "python",
   "name": "python3"
  },
  "language_info": {
   "codemirror_mode": {
    "name": "ipython",
    "version": 3
   },
   "file_extension": ".py",
   "mimetype": "text/x-python",
   "name": "python",
   "nbconvert_exporter": "python",
   "pygments_lexer": "ipython3",
   "version": "3.9.12"
  }
 },
 "nbformat": 4,
 "nbformat_minor": 5
}
