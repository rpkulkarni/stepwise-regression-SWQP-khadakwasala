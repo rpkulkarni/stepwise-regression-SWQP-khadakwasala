{
 "cells": [
  {
   "cell_type": "code",
   "execution_count": 40,
   "id": "49f17a8d",
   "metadata": {},
   "outputs": [],
   "source": [
    "import pandas as pd\n",
    "import numpy as np\n",
    "import statsmodels.api as sm\n",
    "from itertools import combinations\n",
    "from sklearn.model_selection import KFold"
   ]
  },
  {
   "cell_type": "code",
   "execution_count": 41,
   "id": "62212bcd",
   "metadata": {},
   "outputs": [],
   "source": [
    "def calculate_aic(y, x):\n",
    "    model = sm.OLS(y, sm.add_constant(x)).fit()\n",
    "    return model.aic"
   ]
  },
  {
   "cell_type": "code",
   "execution_count": 42,
   "id": "4c55c753",
   "metadata": {},
   "outputs": [],
   "source": [
    "def perform_k_fold_cross_validation(data, target_variable, selected_variables, k=5):\n",
    "    kf = KFold(n_splits=k, shuffle=True, random_state=42)\n",
    "    aic_values = []\n",
    "\n",
    "    for train_index, test_index in kf.split(data):\n",
    "        train_data = data.iloc[train_index]\n",
    "        test_data = data.iloc[test_index]\n",
    "\n",
    "        aic = calculate_aic(train_data[target_variable], train_data[selected_variables])\n",
    "        aic_values.append(aic)\n",
    "\n",
    "    return np.mean(aic_values)"
   ]
  },
  {
   "cell_type": "code",
   "execution_count": 43,
   "id": "5d10636d",
   "metadata": {},
   "outputs": [],
   "source": [
    "def stepwise_regression(data, target_variable, max_features=None, k=5):\n",
    "    independent_variables = data.columns.drop(target_variable)\n",
    "    best_aic = np.inf\n",
    "    best_model = None\n",
    "    selected_variables = []\n",
    "\n",
    "    if max_features is None:\n",
    "        max_features = len(independent_variables)\n",
    "\n",
    "    while True:\n",
    "        remaining_variables = list(set(independent_variables) - set(selected_variables))\n",
    "        aic_candidates = []\n",
    "\n",
    "        for feature in remaining_variables:\n",
    "            selected_vars = selected_variables + [feature]\n",
    "            if data[selected_vars].isnull().values.any(): # check if the selected variables contain any NaNs\n",
    "                continue\n",
    "            if np.isinf(data[selected_vars].values).any(): # check if the selected variables contain any infinite values\n",
    "                continue\n",
    "            \n",
    "            aic = perform_k_fold_cross_validation(data, target_variable, selected_vars, k)\n",
    "            aic_candidates.append((feature, aic))\n",
    "\n",
    "        if not aic_candidates:\n",
    "            break\n",
    "\n",
    "        aic_candidates.sort(key=lambda x: x[1])\n",
    "        best_candidate = aic_candidates[0]\n",
    "\n",
    "        if best_candidate[1] < best_aic:\n",
    "            selected_variables.append(best_candidate[0])\n",
    "            best_aic = best_candidate[1]\n",
    "            best_model = sm.OLS(data[target_variable], sm.add_constant(data[selected_variables])).fit()\n",
    "\n",
    "            if len(selected_variables) == max_features:\n",
    "                break\n",
    "        else:\n",
    "            break\n",
    "\n",
    "    return best_model, selected_variables"
   ]
  },
  {
   "cell_type": "code",
   "execution_count": 44,
   "id": "02ae96c9",
   "metadata": {},
   "outputs": [],
   "source": [
    "# Example usage:\n",
    "data = pd.read_csv('D:/Mid_review_presentation/Thesis_writing/Chapters/Chapter_4/Khadakwasala/Training_Input/DO.csv')  # Load your dataset\n",
    "target_variable = 'DO'  # Replace with your target column name\n",
    "max_features = 6  # Set the maximum number of features to include in the model (optional)\n",
    "k = 5  # Set the number of folds for cross-validation"
   ]
  },
  {
   "cell_type": "code",
   "execution_count": 45,
   "id": "a333f255",
   "metadata": {},
   "outputs": [
    {
     "name": "stdout",
     "output_type": "stream",
     "text": [
      "Selected features: ['Tur']\n",
      "                            OLS Regression Results                            \n",
      "==============================================================================\n",
      "Dep. Variable:                     DO   R-squared:                       0.649\n",
      "Model:                            OLS   Adj. R-squared:                  0.624\n",
      "Method:                 Least Squares   F-statistic:                     25.89\n",
      "Date:                Sat, 06 May 2023   Prob (F-statistic):           0.000165\n",
      "Time:                        00:11:47   Log-Likelihood:                 24.586\n",
      "No. Observations:                  16   AIC:                            -45.17\n",
      "Df Residuals:                      14   BIC:                            -43.63\n",
      "Df Model:                           1                                         \n",
      "Covariance Type:            nonrobust                                         \n",
      "==============================================================================\n",
      "                 coef    std err          t      P>|t|      [0.025      0.975]\n",
      "------------------------------------------------------------------------------\n",
      "const          8.9572      0.254     35.318      0.000       8.413       9.501\n",
      "Tur           -0.6339      0.125     -5.088      0.000      -0.901      -0.367\n",
      "==============================================================================\n",
      "Omnibus:                        1.172   Durbin-Watson:                   1.413\n",
      "Prob(Omnibus):                  0.557   Jarque-Bera (JB):                0.966\n",
      "Skew:                          -0.531   Prob(JB):                        0.617\n",
      "Kurtosis:                       2.432   Cond. No.                         46.0\n",
      "==============================================================================\n",
      "\n",
      "Notes:\n",
      "[1] Standard Errors assume that the covariance matrix of the errors is correctly specified.\n"
     ]
    },
    {
     "name": "stderr",
     "output_type": "stream",
     "text": [
      "C:\\Users\\Admin\\anaconda3\\lib\\site-packages\\scipy\\stats\\stats.py:1541: UserWarning: kurtosistest only valid for n>=20 ... continuing anyway, n=16\n",
      "  warnings.warn(\"kurtosistest only valid for n>=20 ... continuing \"\n"
     ]
    }
   ],
   "source": [
    "best_model, selected_features = stepwise_regression(data, target_variable, max_features, k)\n",
    "print(\"Selected features:\", selected_features)\n",
    "print(best_model.summary())"
   ]
  },
  {
   "cell_type": "code",
   "execution_count": 46,
   "id": "900b2a40",
   "metadata": {},
   "outputs": [
    {
     "name": "stderr",
     "output_type": "stream",
     "text": [
      "C:\\Users\\Admin\\anaconda3\\lib\\site-packages\\scipy\\stats\\stats.py:1541: UserWarning: kurtosistest only valid for n>=20 ... continuing anyway, n=16\n",
      "  warnings.warn(\"kurtosistest only valid for n>=20 ... continuing \"\n"
     ]
    }
   ],
   "source": [
    "# Write the results to a file\n",
    "with open('results_DO_Bear.txt', 'w') as f:\n",
    "    f.write(f\"Selected features: {selected_features}\\n\")\n",
    "    f.write(str(best_model.summary()))"
   ]
  },
  {
   "cell_type": "code",
   "execution_count": 47,
   "id": "b5ccf645",
   "metadata": {},
   "outputs": [],
   "source": [
    "# Get the coefficients and equation for the multiple linear regression model\n",
    "coefficients = best_model.params\n",
    "equation = \"DO = \"\n",
    "for i, feature in enumerate(selected_features):\n",
    "    coefficient = round(coefficients[i+1], 4)\n",
    "    equation += f\"{coefficient}*{feature} + \"\n",
    "intercept = round(coefficients[0], 4)\n",
    "equation += f\"{intercept}\""
   ]
  },
  {
   "cell_type": "code",
   "execution_count": 48,
   "id": "9e73df05",
   "metadata": {},
   "outputs": [
    {
     "name": "stdout",
     "output_type": "stream",
     "text": [
      "Coefficients: const    8.957238\n",
      "Tur     -0.633942\n",
      "dtype: float64\n",
      "Equation: DO = -0.6339*Tur + 8.9572\n"
     ]
    }
   ],
   "source": [
    "# Display the coefficients and equation for the multiple linear regression model\n",
    "print(\"Coefficients:\", coefficients)\n",
    "print(\"Equation:\", equation)"
   ]
  },
  {
   "cell_type": "code",
   "execution_count": 49,
   "id": "8873ed4d",
   "metadata": {},
   "outputs": [],
   "source": [
    "# Make predictions using the best model\n",
    "X = sm.add_constant(data[selected_features])\n",
    "y_pred = best_model.predict(X)"
   ]
  },
  {
   "cell_type": "code",
   "execution_count": 50,
   "id": "3abf54ef",
   "metadata": {},
   "outputs": [],
   "source": [
    "# Add the predicted values to the original data\n",
    "data['Predicted DO'] = y_pred"
   ]
  },
  {
   "cell_type": "code",
   "execution_count": 51,
   "id": "b0f2e35c",
   "metadata": {},
   "outputs": [
    {
     "name": "stdout",
     "output_type": "stream",
     "text": [
      "Original and Predicted DO:\n",
      "          DO  Predicted DO\n",
      "0   7.684020      7.667451\n",
      "1   7.763401      7.772458\n",
      "2   7.839137      7.801871\n",
      "3   7.696183      7.624209\n",
      "4   7.672417      7.654191\n",
      "5   7.652173      7.645340\n",
      "6   7.727264      7.745445\n",
      "7   7.704530      7.633748\n",
      "8   7.668948      7.664512\n",
      "9   7.670491      7.780561\n",
      "10  7.594595      7.650966\n",
      "11  7.757047      7.693768\n",
      "12  7.675749      7.643713\n",
      "13  7.608633      7.595580\n",
      "14  7.475526      7.557744\n",
      "15  7.509887      7.568442\n"
     ]
    }
   ],
   "source": [
    "# Display the original and predicted values of Turbidity\n",
    "print(\"Original and Predicted DO:\")\n",
    "print(data[[target_variable, 'Predicted DO']])"
   ]
  },
  {
   "cell_type": "code",
   "execution_count": 52,
   "id": "f07282a0",
   "metadata": {},
   "outputs": [],
   "source": [
    "# Save the original and predicted turbidity values to an Excel file\n",
    "output_data = data[[target_variable, 'Predicted DO']]\n",
    "output_file_path = 'D:/Mid_review_presentation/Thesis_writing/Chapters/Chapter_4/Khadakwasala/Training_output/DO_Khdakwasala_4.xlsx'\n",
    "output_data.to_excel(output_file_path, index=False)"
   ]
  },
  {
   "cell_type": "code",
   "execution_count": null,
   "id": "a0d873c6",
   "metadata": {},
   "outputs": [],
   "source": []
  },
  {
   "cell_type": "code",
   "execution_count": null,
   "id": "917590f9",
   "metadata": {},
   "outputs": [],
   "source": []
  }
 ],
 "metadata": {
  "kernelspec": {
   "display_name": "Python 3 (ipykernel)",
   "language": "python",
   "name": "python3"
  },
  "language_info": {
   "codemirror_mode": {
    "name": "ipython",
    "version": 3
   },
   "file_extension": ".py",
   "mimetype": "text/x-python",
   "name": "python",
   "nbconvert_exporter": "python",
   "pygments_lexer": "ipython3",
   "version": "3.9.12"
  }
 },
 "nbformat": 4,
 "nbformat_minor": 5
}
